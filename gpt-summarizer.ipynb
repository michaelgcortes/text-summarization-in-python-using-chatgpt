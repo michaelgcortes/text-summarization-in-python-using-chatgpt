{
 "cells": [
  {
   "cell_type": "markdown",
   "metadata": {},
   "source": [
    "First install the openAI package"
   ]
  },
  {
   "cell_type": "code",
   "execution_count": null,
   "metadata": {},
   "outputs": [],
   "source": [
    "!pip install --upgrade openai"
   ]
  },
  {
   "cell_type": "markdown",
   "metadata": {},
   "source": [
    "Import the libraries you need"
   ]
  },
  {
   "cell_type": "code",
   "execution_count": 1,
   "metadata": {},
   "outputs": [],
   "source": [
    "from openai import OpenAI\n",
    "import os"
   ]
  },
  {
   "cell_type": "markdown",
   "metadata": {},
   "source": [
    "Test out the connection"
   ]
  },
  {
   "cell_type": "code",
   "execution_count": 2,
   "metadata": {},
   "outputs": [
    {
     "name": "stdout",
     "output_type": "stream",
     "text": [
      "ChatCompletionMessage(content=\"In the realm of code, a technique profound,\\nRecursion holds its crown, firm on the ground.\\nA dance of function, elegant and wise,\\nUnfolding logic that never dies.\\n\\nImagine a tale, a story untold,\\nWith chapters interwoven, secrets unfold.\\nEach page calls upon the ones before,\\nA loop of words, the mind does adore.\\n\\nIn programming's realm, recursion's the key,\\nA function that beckons itself, you see.\\nA journey of repetition, layers entwined,\\nSolving problems anew, with each turn of the mind.\\n\\nLike a mirror reflecting its own reflection,\\nRecursion calls forth, without a question.\\nA puzzle divided, into fragments small,\\nAnd conquered with grace, by recursive's call.\\n\\nAt first, a base case, a condition set,\\nA checkpoint to break the infinite threat.\\nWhen the end is nigh, the function will cease,\\nNo more calls, just sweet release.\\n\\nBut should the condition find no embrace,\\nOh, recursion, you'll leap with fierce grace.\\nYou dive deeper still, layers upon layers,\\nUntil the task is complete, despite all the snares.\\n\\nWith every new call, the stack does rise,\\nA tower of purpose, reaching the skies.\\nYet fear not, dear programmer, for in your hand,\\nLies the power to tame, this recursive land.\\n\\nBut lo, beware, for an error unseen,\\nA loop forever, a never-ending scene.\\nFor recursion's embrace, though gentle and kind,\\nCan trap the unwary, a path hard to unwind.\\n\\nSo let us marvel at this technique rare,\\nA tool to unravel problems, without a care.\\nWith recursion, we unlock the wonders unknown,\\nEmbarking on a journey, that's ours to own.\\n\\nSo programmers, embrace this magic sublime,\\nLearn to wield recursion, in your own rhyme.\\nUnlock the secrets that lie deep within code,\\nAnd let your programs dance, to a recursive ode.\", role='assistant', function_call=None, tool_calls=None)\n"
     ]
    }
   ],
   "source": [
    "# Instantiate a client to ChatGPT and grab the API key from the .env file\n",
    "client = OpenAI(\n",
    "    api_key=os.environ.get(\"OPENAI_API_KEY\")\n",
    ")\n",
    "\n",
    "\n",
    "completion = client.chat.completions.create(\n",
    "  model=\"gpt-3.5-turbo\",\n",
    "  messages=[\n",
    "    {\"role\": \"system\", \"content\": \"You are a poetic assistant, skilled in explaining complex programming concepts with creative flair.\"},\n",
    "    {\"role\": \"user\", \"content\": \"Compose a poem that explains the concept of recursion in programming.\"}\n",
    "  ]\n",
    ")\n",
    "\n",
    "print(completion.choices[0].message)"
   ]
  },
  {
   "cell_type": "code",
   "execution_count": 3,
   "metadata": {},
   "outputs": [
    {
     "name": "stdout",
     "output_type": "stream",
     "text": [
      "In the realm of code, a technique profound,\n",
      "Recursion holds its crown, firm on the ground.\n",
      "A dance of function, elegant and wise,\n",
      "Unfolding logic that never dies.\n",
      "\n",
      "Imagine a tale, a story untold,\n",
      "With chapters interwoven, secrets unfold.\n",
      "Each page calls upon the ones before,\n",
      "A loop of words, the mind does adore.\n",
      "\n",
      "In programming's realm, recursion's the key,\n",
      "A function that beckons itself, you see.\n",
      "A journey of repetition, layers entwined,\n",
      "Solving problems anew, with each turn of the mind.\n",
      "\n",
      "Like a mirror reflecting its own reflection,\n",
      "Recursion calls forth, without a question.\n",
      "A puzzle divided, into fragments small,\n",
      "And conquered with grace, by recursive's call.\n",
      "\n",
      "At first, a base case, a condition set,\n",
      "A checkpoint to break the infinite threat.\n",
      "When the end is nigh, the function will cease,\n",
      "No more calls, just sweet release.\n",
      "\n",
      "But should the condition find no embrace,\n",
      "Oh, recursion, you'll leap with fierce grace.\n",
      "You dive deeper still, layers upon layers,\n",
      "Until the task is complete, despite all the snares.\n",
      "\n",
      "With every new call, the stack does rise,\n",
      "A tower of purpose, reaching the skies.\n",
      "Yet fear not, dear programmer, for in your hand,\n",
      "Lies the power to tame, this recursive land.\n",
      "\n",
      "But lo, beware, for an error unseen,\n",
      "A loop forever, a never-ending scene.\n",
      "For recursion's embrace, though gentle and kind,\n",
      "Can trap the unwary, a path hard to unwind.\n",
      "\n",
      "So let us marvel at this technique rare,\n",
      "A tool to unravel problems, without a care.\n",
      "With recursion, we unlock the wonders unknown,\n",
      "Embarking on a journey, that's ours to own.\n",
      "\n",
      "So programmers, embrace this magic sublime,\n",
      "Learn to wield recursion, in your own rhyme.\n",
      "Unlock the secrets that lie deep within code,\n",
      "And let your programs dance, to a recursive ode.\n"
     ]
    }
   ],
   "source": [
    "print(completion.choices[0].message.content)"
   ]
  },
  {
   "cell_type": "code",
   "execution_count": 5,
   "metadata": {},
   "outputs": [],
   "source": [
    "# Close the client after the above test\n",
    "client.close()"
   ]
  },
  {
   "cell_type": "markdown",
   "metadata": {},
   "source": [
    "Write the Text Summarizer class"
   ]
  },
  {
   "cell_type": "code",
   "execution_count": 23,
   "metadata": {},
   "outputs": [],
   "source": [
    "class TextSummarizer:\n",
    "\n",
    "    # ChatGPT model that we will be using everywhere\n",
    "    openai_model = \"gpt-3.5-turbo\"\n",
    "\n",
    "\n",
    "    # Constructor    \n",
    "    def __init__(self):\n",
    "        self.apikey = self.fetch_api_key()\n",
    "\n",
    "\n",
    "    # Method to get API key\n",
    "    def fetch_api_key(self):\n",
    "        # In here would be all the code required to fetch the api key ...\n",
    "        return os.environ.get(\"OPENAI_API_KEY\")\n",
    "\n",
    "\n",
    "    # Method to take list of sentences and return summarized/average single sentence\n",
    "    def average_sentences(self, list_of_sentences):\n",
    "        # Instantiate the client\n",
    "        client = OpenAI(api_key=self.apikey)\n",
    "\n",
    "        # Write prompt to chatGPT to execute our task\n",
    "        prompt = \"Here is a list of multiple sentences that I want you to summarize and rewrite as a single sentence that is roughly the same length as the input sentences. The sentences are separated by newline characters \\n as follows: {sentences}\"\n",
    "        prompt = prompt.format(sentences = \"\\n\".join(list_of_sentences))\n",
    "\n",
    "        # Make request to chat GPT\n",
    "        completion = client.chat.completions.create(\n",
    "            model=self.openai_model,\n",
    "            messages=[\n",
    "                {\"role\": \"system\", \"content\": \"You are an assistant that is able to read several sentences and then combine them into a single summarized sentence. The sentences will be sent to you with a newline character \\n separating them. You will return a single sentence.\"},\n",
    "                {\"role\": \"user\", \"content\": prompt}\n",
    "            ]\n",
    "        )\n",
    "\n",
    "        # Get the summarized sentence output from Chat GPT\n",
    "        summarized_sentence = completion.choices[0].message.content\n",
    "\n",
    "        # Close the client\n",
    "        client.close()\n",
    "\n",
    "        return summarized_sentence\n",
    "\n",
    "    # Method to summarize a piece of text\n",
    "    def summarize_text(self, input_text):\n",
    "        # Instantiate the client\n",
    "        client = OpenAI(api_key=self.apikey)\n",
    "\n",
    "\n",
    "        # Make request to chat GPT\n",
    "        completion = client.chat.completions.create(\n",
    "            model=self.openai_model,\n",
    "            messages=[\n",
    "                {\"role\": \"system\", \"content\": \"You are an assistant that is able to read a piece of text and summarize it. Your summary will be 10 sentences or less.\"},\n",
    "                {\"role\": \"user\", \"content\": \"Here is the text to be summarized below the newline character.\\n {text}\".format(text=input_text)}\n",
    "            ]\n",
    "        )\n",
    "\n",
    "        # Get the summary of the inptu text output from Chat GPT\n",
    "        summary_output = completion.choices[0].message.content\n",
    "\n",
    "        # Close the client\n",
    "        client.close()\n",
    "\n",
    "        return summary_output        \n",
    "\n",
    "\n",
    "    # Method to consolidated job titles\n",
    "    def consolidate_job_titles(self, job_titles):\n",
    "        # Instantiate the client\n",
    "        client = OpenAI(api_key=self.apikey)\n",
    "\n",
    "        # Write prompt\n",
    "        prompt = \"Here is the list of job titles separated by newline characters \\n for you to combine and consolidate down into a single job title that represents the entire list. \\n {list_of_titles}\"\n",
    "        prompt = prompt.format(list_of_titles = job_titles)\n",
    "\n",
    "        # Make request to chat GPT\n",
    "        completion = client.chat.completions.create(\n",
    "            model=self.openai_model,\n",
    "            messages=[\n",
    "                {\"role\": \"system\", \"content\": \"You are an assistant that can read a list of job titles which are all the same job title but are written slightly differently with different variations and possibly with typos. You are an expert at reading the list of job titles (with all their variations) and returning back a single job title that represents the entire input group.\"},\n",
    "                {\"role\": \"user\", \"content\": prompt}\n",
    "            ]\n",
    "        )\n",
    "\n",
    "        # Get the summary of the inptu text output from Chat GPT\n",
    "        consolidated_job_title = completion.choices[0].message.content\n",
    "\n",
    "        # Close the client\n",
    "        client.close()\n",
    "\n",
    "        return consolidated_job_title     \n",
    "\n",
    "\n",
    "\n"
   ]
  },
  {
   "cell_type": "markdown",
   "metadata": {},
   "source": [
    "Instantiate the class"
   ]
  },
  {
   "cell_type": "code",
   "execution_count": 24,
   "metadata": {},
   "outputs": [],
   "source": [
    "gpt_summarizer = TextSummarizer()"
   ]
  },
  {
   "cell_type": "markdown",
   "metadata": {},
   "source": [
    "Try out the sentence averager"
   ]
  },
  {
   "cell_type": "code",
   "execution_count": 17,
   "metadata": {},
   "outputs": [
    {
     "name": "stdout",
     "output_type": "stream",
     "text": [
      "The car drives smoothly, effortlessly gliding across the road, making it amazing, sleek, and beautiful.\n"
     ]
    }
   ],
   "source": [
    "avg_sentence = gpt_summarizer.average_sentences([\n",
    "    'I love the way the car drives.', \n",
    "    'The car drives so smoothly.', \n",
    "    'The car glides across the road effortlessly.', \n",
    "    'This car is amazing.', \n",
    "    'The car is sleek and beautiful.'\n",
    "])\n",
    "\n",
    "print(avg_sentence)"
   ]
  },
  {
   "cell_type": "markdown",
   "metadata": {},
   "source": [
    "Try out the abstractive text summarizer"
   ]
  },
  {
   "cell_type": "code",
   "execution_count": 18,
   "metadata": {},
   "outputs": [],
   "source": [
    "input_text = \"\"\"\n",
    "Wait, start at the beginning. Of everything.\n",
    "The Big Bang theory says that the universe came into being from a single, unimaginably hot and dense point (aka, a singularity) more than 13 billion years ago. It didn’t occur in an already existing space. Rather, it initiated the expansion—and cooling—of space itself.\n",
    "\n",
    "Why stand behind this theory?\n",
    "It accounts for many of the things astronomers see through ground- and space-based telescopes. It explains why other galaxies are moving away from us as space continues to expand. It accounts for a faint glow seen everywhere in the universe. (The glow is the leftover heat from the universe’s birth, now cooled to just a few degrees above absolute zero.) In short, it’s a remarkably powerful and elegant explanation of how the observable universe came to be.\n",
    "\n",
    "Anything else?\n",
    "The theory accounts for the creation of the lightest elements in the universe—hydrogen, helium, and lithium—from which all heavier elements were forged in stars and supernovas. An extension of the Big Bang, known as cosmic inflation, even explains why the universe is so homogeneous (evenly composed) and how galaxies are distributed across space.\n",
    "\n",
    "Cosmic inflation? Sounds bad.\n",
    "Not that kind of inflation. Many features of today’s universe make sense if space underwent an extraordinary expansion very early in its history. According to inflation theory, the universe expanded dramatically a tiny fraction of a second after the Big Bang, driven by fantastic quantities of energy contained in space itself. After this period of inflation, the universe continued to expand and cool, but at a far slower pace.\n",
    "\n",
    "Inflation stretched space out so quickly that it became extremely uniform. But space is not completely homogeneous. Small fluctuations in the density of matter present in the very early universe were massively amplified during inflation. These density fluctuations eventually created the large-scale structure of the universe, including great sheets, bubbles, and clusters of galaxies.\n",
    "\n",
    "That’s the start. What about how the universe will end?\n",
    "The concept of a Big Bang doesn’t indicate whether the universe will continue to expand and cool or whether it will eventually contract to another super-hot singularity, perhaps restarting the entire cycle. The ultimate fate of the universe likely depends on the properties of two mysterious phenomena known as dark matter and dark energy. Further study of both could reveal whether the universe will end in fire—or ice.\n",
    "\n",
    "Dark what now?\n",
    "All familiar matter—Earth, the rest of the solar system, stars, galaxies, and interstellar gas—accounts for only about one-sixth of the mass of the universe. Scientists can see the effects of the rest of the universe’s mass, which they call dark matter. Its presence in galaxies makes them rotate more quickly than if only normal matter were there, and high concentrations of it noticeably bend light coming from far away. But its nature remains a mystery.\n",
    "\n",
    "So what is it?\n",
    "Dark matter may consist of elementary particles created in the Big Bang but not yet detected on Earth. One reason physicists want to build more powerful particle accelerators is to search for these missing particles.\n",
    "\n",
    "Even more mysterious than dark matter is a force known as dark energy.\n",
    "\n",
    "Why do I hear Darth Vader breathing?\n",
    "This isn’t science fiction. Observations of distant supernovae suggest that space is permeated by an energy—called dark energy—that pushes objects apart, just as two positive electric charges repel each other. This mysterious entity, which accounts for more than 70% of the energy content of the universe, may be related to the energy that caused inflation.\n",
    "\n",
    "But today virtually nothing is known about what dark energy is or how it exerts its effects on matter. Explaining it may require entirely new concepts of space and time.\n",
    "\n",
    "How have astronomers learned about the early universe?\n",
    "When astronomers look through a telescope, they are looking back in time. They see the Andromeda galaxy, the nearest major galaxy to ours, not as it is today but as it was more than 2 million years ago, because that’s how long it has taken the galaxy’s light to travel through space to Earth.\n",
    "\n",
    "Other galaxies are much farther away in space and time. The Hubble Space Telescope can see galaxies that are more than 13 billion years old and formed not long after the Big Bang. Observations have been made of the cosmic microwave background, the faint glow left over from the Big Bang, that help to get a picture of what the early universe was like, especially before those first stars formed.\n",
    "\n",
    "Where do we go from here?\n",
    "Astronomers are now planning a suite of new space- and ground-based telescopes and smaller-scale equipment and research. With these tools, they plan to study dark matter and dark energy, the black holes at the center of galaxies, the formation of planets like Earth around other stars, and many other aspects of our astonishing universe.\n",
    "\"\"\"\n",
    "\n",
    "summarized_output_text = gpt_summarizer.summarize_text(input_text)"
   ]
  },
  {
   "cell_type": "code",
   "execution_count": 19,
   "metadata": {},
   "outputs": [
    {
     "name": "stdout",
     "output_type": "stream",
     "text": [
      "4951\n"
     ]
    }
   ],
   "source": [
    "print(len(input_text))"
   ]
  },
  {
   "cell_type": "code",
   "execution_count": 20,
   "metadata": {},
   "outputs": [
    {
     "name": "stdout",
     "output_type": "stream",
     "text": [
      "744\n"
     ]
    }
   ],
   "source": [
    "print(len(summarized_output_text))"
   ]
  },
  {
   "cell_type": "code",
   "execution_count": 21,
   "metadata": {},
   "outputs": [
    {
     "data": {
      "text/plain": [
       "0.15027267218743687"
      ]
     },
     "execution_count": 21,
     "metadata": {},
     "output_type": "execute_result"
    }
   ],
   "source": [
    "len(summarized_output_text)/len(input_text)"
   ]
  },
  {
   "cell_type": "code",
   "execution_count": 22,
   "metadata": {},
   "outputs": [
    {
     "name": "stdout",
     "output_type": "stream",
     "text": [
      "The Big Bang theory explains the beginning of the universe and accounts for the expansion of space and the creation of light elements. Cosmic inflation is a period of rapid expansion following the Big Bang that explains the uniformity of the universe and the formation of its structure. The fate of the universe depends on dark matter and dark energy, which make up a majority of its mass and energy content. Dark matter is still a mystery, though it is believed to be made up of undetected particles. Dark energy is a force that pushes objects apart and is related to the energy that caused inflation. Astronomers study the early universe through telescopes and are planning further research on dark matter, dark energy, black holes, and more.\n"
     ]
    }
   ],
   "source": [
    "print(summarized_output_text)"
   ]
  },
  {
   "cell_type": "markdown",
   "metadata": {},
   "source": [
    "Try out the method to consolidate titles/texts into one representative (using job titles as example here)"
   ]
  },
  {
   "cell_type": "code",
   "execution_count": 25,
   "metadata": {},
   "outputs": [
    {
     "data": {
      "text/plain": [
       "'After analyzing the list of job titles, the consolidated single job title that represents the entire list is \"Data Analyst\".'"
      ]
     },
     "execution_count": 25,
     "metadata": {},
     "output_type": "execute_result"
    }
   ],
   "source": [
    "gpt_summarizer.consolidate_job_titles([\n",
    "    \"Data Analyst\", \n",
    "    \"Data Anlyst\",\n",
    "    \"Data Analyst Manager\",\n",
    "    \"Analyst of data\",\n",
    "    \"Data Analyst II\"\n",
    "])\n",
    "\n",
    "\n",
    "gpt_summarizer.consolidate_customer_names()\n"
   ]
  },
  {
   "cell_type": "code",
   "execution_count": null,
   "metadata": {},
   "outputs": [],
   "source": []
  }
 ],
 "metadata": {
  "kernelspec": {
   "display_name": "Python 3",
   "language": "python",
   "name": "python3"
  },
  "language_info": {
   "codemirror_mode": {
    "name": "ipython",
    "version": 3
   },
   "file_extension": ".py",
   "mimetype": "text/x-python",
   "name": "python",
   "nbconvert_exporter": "python",
   "pygments_lexer": "ipython3",
   "version": "3.10.11"
  }
 },
 "nbformat": 4,
 "nbformat_minor": 2
}
